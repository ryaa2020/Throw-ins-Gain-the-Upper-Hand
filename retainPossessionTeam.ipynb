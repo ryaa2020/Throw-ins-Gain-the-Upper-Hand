{
 "metadata": {
  "language_info": {
   "codemirror_mode": {
    "name": "ipython",
    "version": 3
   },
   "file_extension": ".py",
   "mimetype": "text/x-python",
   "name": "python",
   "nbconvert_exporter": "python",
   "pygments_lexer": "ipython3",
   "version": 3
  },
  "orig_nbformat": 2
 },
 "nbformat": 4,
 "nbformat_minor": 2,
 "cells": [
  {
   "source": [
    "retain possession extras"
   ],
   "cell_type": "markdown",
   "metadata": {}
  },
  {
   "cell_type": "code",
   "execution_count": null,
   "metadata": {},
   "outputs": [],
   "source": [
    "# import libraries\n",
    "from statsbombpy import sb\n",
    "import json\n",
    "import pandas as pd\n",
    "import matplotlib.pyplot as plt\n",
    "from mplsoccer.pitch import Pitch\n",
    "import seaborn as sns\n",
    "import os\n",
    "import re"
   ]
  },
  {
   "cell_type": "code",
   "execution_count": null,
   "metadata": {},
   "outputs": [],
   "source": [
    "# obtain list of matches for specific competition and season \n",
    "df_matches = sb.matches(competition_id=55, season_id=43)\n",
    "df_matches"
   ]
  },
  {
   "cell_type": "code",
   "execution_count": null,
   "metadata": {},
   "outputs": [],
   "source": [
    "df_throwIn_new_index = df_throwIn.reset_index()\n",
    "df_throwIn_final = df_throwIn_new_index.rename(columns={'level_0': 'full_index','Unnamed: 0': 'old_index'})\n",
    "df_throwIn_final"
   ]
  },
  {
   "cell_type": "code",
   "execution_count": null,
   "metadata": {},
   "outputs": [],
   "source": [
    "# create list of all competitions to analyze\n",
    "\n",
    "directory = 'data/three-sixty'\n",
    "\n",
    "# list of filenames\n",
    "file_list = []\n",
    " \n",
    "# iterate over files in\n",
    "# that directory\n",
    "for filename in os.listdir(directory):\n",
    "    f = os.path.join(directory, filename)\n",
    "    # checking if it is a file\n",
    "    if os.path.isfile(f):\n",
    "        f_number = re.split(\"[/.]\", f)[2]\n",
    "        file_list.append(f_number)\n",
    "\n",
    "file_list"
   ]
  },
  {
   "cell_type": "code",
   "execution_count": null,
   "metadata": {},
   "outputs": [],
   "source": [
    "# create dictionary deeming each throw in a success or failure\n",
    "# success defined as retaining possession for at least 7 seconds \n",
    "\n",
    "from datetime import datetime\n",
    "\n",
    "throw_in_outcomes = {}\n",
    "\n",
    "current_possession = 0\n",
    "i = 0\n",
    "\n",
    "throwin_count = 0\n",
    "\n",
    "for match in file_list:\n",
    "    throwin_row = 0\n",
    "    looking_for_result = False\n",
    "    elapsed_time = 0\n",
    "    current_possession = 0\n",
    "    i = 0\n",
    "\n",
    "    initial_match_df = df_throwIn_final[df_throwIn_final[\"match_id\"]== int(match)]\n",
    "    match_df = initial_match_df.reset_index()\n",
    "\n",
    "    while i < len(match_df):\n",
    "        if (match_df.loc[i, \"pass_type\"] == \"Throw-in\") and (looking_for_result == False):\n",
    "            throwin_count += 1\n",
    "            throwin_row = i\n",
    "            elapsed_time = 0\n",
    "            start_time = match_df.loc[i, \"timestamp\"]\n",
    "            start_dt_time = datetime.strptime(start_time, '%H:%M:%S.%f')\n",
    "            current_possession = match_df.loc[i, \"possession\"]\n",
    "            looking_for_result = True\n",
    "            # print(throwin_row)\n",
    "        \n",
    "        elif looking_for_result == True:\n",
    "            end_time = match_df.loc[i, \"timestamp\"]\n",
    "            end_dt_time = datetime.strptime(end_time, '%H:%M:%S.%f')\n",
    "            elapsed_time = elapsed_time + (end_dt_time - start_dt_time).total_seconds()\n",
    "            start_dt_time = end_dt_time\n",
    "\n",
    "            if elapsed_time >= 7:\n",
    "                if match_df.loc[i, \"possession\"] == current_possession:\n",
    "                    throw_in_outcomes[throwin_count] = [match_df.loc[throwin_row, \"location\"], \"Success\"]\n",
    "                else:\n",
    "                    throw_in_outcomes[throwin_count] = [match_df.loc[throwin_row, \"location\"], \"Failure\"]\n",
    "                    i = throwin_row\n",
    "                looking_for_result = False\n",
    "        \n",
    "        i = i + 1\n",
    "\n",
    "throw_in_outcomes\n",
    "\n",
    "\n"
   ]
  },
  {
   "cell_type": "code",
   "execution_count": null,
   "metadata": {},
   "outputs": [],
   "source": [
    "# linear regression\n",
    "import numpy as np\n",
    "from sklearn.linear_model import LinearRegression\n",
    "\n",
    "list_of_x_coordinates = []\n",
    "for throwin in throw_in_outcomes:\n",
    "    coords = throw_in_outcomes[throwin][0]\n",
    "    x_coord = coords.split(\",\")[0][1:]\n",
    "    list_of_x_coordinates.append(float(x_coord))\n",
    "\n",
    "list_of_outcomes = []\n",
    "for throwin in throw_in_outcomes:\n",
    "    outcome = throw_in_outcomes[throwin][1]\n",
    "    if outcome == \"Success\":\n",
    "        outcome_val = 1\n",
    "    else:\n",
    "        outcome_val = 0\n",
    "\n",
    "    list_of_outcomes.append(outcome_val)\n",
    "\n",
    "x = np.array(list_of_x_coordinates).reshape((-1, 1))\n",
    "print(x)\n",
    "\n",
    "y = np.array(list_of_outcomes)\n",
    "print(y)"
   ]
  },
  {
   "cell_type": "code",
   "execution_count": null,
   "metadata": {},
   "outputs": [],
   "source": [
    "# modeling\n",
    "\n",
    "model = LinearRegression()\n",
    "\n",
    "model.fit(x, y)"
   ]
  },
  {
   "cell_type": "code",
   "execution_count": null,
   "metadata": {},
   "outputs": [],
   "source": [
    "r_sq = model.score(x, y)\n",
    "print(f\"coefficient of determination: {r_sq}\")\n",
    "print(f\"intercept: {model.intercept_}\")\n",
    "print(f\"slope: {model.coef_}\")"
   ]
  },
  {
   "cell_type": "code",
   "execution_count": null,
   "metadata": {},
   "outputs": [],
   "source": [
    "y_pred = model.predict(x)\n",
    "print(f\"predicted response:\\n{y_pred}\")"
   ]
  },
  {
   "source": [
    "That didn't work... try with only data from half the field (don't think linear shape is working, maybe just using half the field would yield more of a linear trend?)"
   ],
   "cell_type": "markdown",
   "metadata": {}
  },
  {
   "cell_type": "code",
   "execution_count": null,
   "metadata": {},
   "outputs": [],
   "source": [
    "list_of_x_coordinates = []\n",
    "list_of_outcomes = []\n",
    "\n",
    "for throwin in throw_in_outcomes:\n",
    "    coords = throw_in_outcomes[throwin][0]\n",
    "    x_coord = coords.split(\",\")[0][1:]\n",
    "    if float(x_coord) <= 60:\n",
    "        list_of_x_coordinates.append(float(x_coord))\n",
    "        outcome = throw_in_outcomes[throwin][1]\n",
    "        if outcome == \"Success\":\n",
    "            outcome_val = 1\n",
    "        else:\n",
    "            outcome_val = 0\n",
    "        list_of_outcomes.append(outcome_val)\n",
    "\n",
    "x = np.array(list_of_x_coordinates).reshape((-1, 1))\n",
    "print(x)\n",
    "\n",
    "y = np.array(list_of_outcomes)\n",
    "print(y)"
   ]
  },
  {
   "cell_type": "code",
   "execution_count": null,
   "metadata": {},
   "outputs": [],
   "source": [
    "# new model\n",
    "\n",
    "new_model = LinearRegression()\n",
    "\n",
    "new_model.fit(x, y)"
   ]
  },
  {
   "cell_type": "code",
   "execution_count": null,
   "metadata": {},
   "outputs": [],
   "source": [
    "r_sq = model.score(x, y)\n",
    "print(f\"coefficient of determination: {r_sq}\")\n",
    "print(f\"intercept: {model.intercept_}\")\n",
    "print(f\"slope: {model.coef_}\")"
   ]
  },
  {
   "cell_type": "code",
   "execution_count": null,
   "metadata": {},
   "outputs": [],
   "source": [
    "y_pred = model.predict(x)\n",
    "print(f\"predicted response:\\n{y_pred}\")"
   ]
  },
  {
   "cell_type": "code",
   "execution_count": null,
   "metadata": {},
   "outputs": [],
   "source": [
    "# with statsmodels\n",
    "x = sm.add_constant(x) # adding a constant\n",
    " \n",
    "model = sm.OLS(y, x).fit()\n",
    "predictions = model.predict(x) \n",
    " \n",
    "print_model = model.summary()\n",
    "print(print_model)"
   ]
  },
  {
   "cell_type": "code",
   "execution_count": null,
   "metadata": {},
   "outputs": [],
   "source": [
    "# create dictionary deeming each throw in a success or failure and including other info\n",
    "# success defined as retaining possession for at least 7 seconds \n",
    "\n",
    "from datetime import datetime\n",
    "\n",
    "throw_in_outcomes_extended = {}\n",
    "\n",
    "current_possession = 0\n",
    "i = 0\n",
    "\n",
    "throwin_count = 0\n",
    "\n",
    "for match in file_list:\n",
    "    throwin_row = 0\n",
    "    looking_for_result = False\n",
    "    elapsed_time = 0\n",
    "    current_possession = 0\n",
    "    i = 0\n",
    "\n",
    "    initial_match_df = df_throwIn_final[df_throwIn_final[\"match_id\"]== int(match)]\n",
    "    match_df = initial_match_df.reset_index()\n",
    "\n",
    "    while i < len(match_df):\n",
    "        if (match_df.loc[i, \"pass_type\"] == \"Throw-in\") and (looking_for_result == False):\n",
    "            throwin_count += 1\n",
    "            throwin_row = i\n",
    "            elapsed_time = 0\n",
    "            start_time = match_df.loc[i, \"timestamp\"]\n",
    "            start_dt_time = datetime.strptime(start_time, '%H:%M:%S.%f')\n",
    "            current_possession = match_df.loc[i, \"possession\"]\n",
    "            looking_for_result = True\n",
    "            # print(throwin_row)\n",
    "        \n",
    "        elif looking_for_result == True:\n",
    "            end_time = match_df.loc[i, \"timestamp\"]\n",
    "            end_dt_time = datetime.strptime(end_time, '%H:%M:%S.%f')\n",
    "            elapsed_time = elapsed_time + (end_dt_time - start_dt_time).total_seconds()\n",
    "            start_dt_time = end_dt_time\n",
    "\n",
    "            if elapsed_time >= 7:\n",
    "                \n",
    "                if match_df.loc[i, \"possession\"] == current_possession:\n",
    "                    throw_in_outcomes_extended[throwin_count] = [match_df.loc[throwin_row, \"location\"], match_df.loc[throwin_row, \"pass_height\"], match_df.loc[throwin_row, \"pass_angle\"], match_df.loc[throwin_row, \"pass_length\"], \"Success\"]\n",
    "                \n",
    "                else:\n",
    "                    throw_in_outcomes_extended[throwin_count] = [match_df.loc[throwin_row, \"location\"], match_df.loc[throwin_row, \"pass_height\"], match_df.loc[throwin_row, \"pass_angle\"], match_df.loc[throwin_row, \"pass_length\"], \"Failure\"]\n",
    "                    \n",
    "                    i = throwin_row\n",
    "                \n",
    "                looking_for_result = False\n",
    "        \n",
    "        i = i + 1\n",
    "\n",
    "throw_in_outcomes_extended"
   ]
  },
  {
   "cell_type": "code",
   "execution_count": null,
   "metadata": {},
   "outputs": [],
   "source": [
    "full_list = []\n",
    "\n",
    "list_of_x_coordinates = []\n",
    "\n",
    "for throwin in throw_in_outcomes_extended:\n",
    "    coords = throw_in_outcomes_extended[throwin][0]\n",
    "    x_coord = coords.split(\",\")[0][1:]\n",
    "    list_of_x_coordinates.append(float(x_coord))\n",
    "    if throw_in_outcomes_extended[throwin][1] == \"Low Pass\":\n",
    "        list_of_x_coordinates.append(0)\n",
    "    else:\n",
    "        list_of_x_coordinates.append(1)\n",
    "    list_of_x_coordinates += (throw_in_outcomes_extended[throwin][2:4])\n",
    "    full_list.append(list_of_x_coordinates)\n",
    "    list_of_x_coordinates = []\n",
    "\n",
    "\n",
    "list_of_outcomes = []\n",
    "for throwin in throw_in_outcomes_extended:\n",
    "    outcome = throw_in_outcomes_extended[throwin][4]\n",
    "    if outcome == \"Success\":\n",
    "        outcome_val = 1\n",
    "    else:\n",
    "        outcome_val = 0\n",
    "    list_of_outcomes.append(outcome_val)\n",
    "\n",
    "print(full_list)"
   ]
  },
  {
   "cell_type": "code",
   "execution_count": null,
   "metadata": {},
   "outputs": [],
   "source": [
    "details_df = pd.DataFrame(full_list, columns = ['location', 'height', 'angle', 'distance'])\n",
    "\n",
    "details_df"
   ]
  },
  {
   "cell_type": "code",
   "execution_count": null,
   "metadata": {},
   "outputs": [],
   "source": [
    "x = np.asarray(details_df)\n",
    "x"
   ]
  },
  {
   "cell_type": "code",
   "execution_count": null,
   "metadata": {},
   "outputs": [],
   "source": [
    "y = np.array(list_of_outcomes)\n",
    "print(y)"
   ]
  },
  {
   "cell_type": "code",
   "execution_count": null,
   "metadata": {},
   "outputs": [],
   "source": [
    "import statsmodels.api as sm\n",
    "model = sm.OLS(y, x)"
   ]
  },
  {
   "cell_type": "code",
   "execution_count": null,
   "metadata": {},
   "outputs": [],
   "source": [
    "print(x.shape, y.shape)"
   ]
  },
  {
   "cell_type": "code",
   "execution_count": null,
   "metadata": {},
   "outputs": [],
   "source": [
    "from sklearn.model_selection import train_test_split\n",
    "X_train, X_test, Y_train, Y_test = train_test_split(x, y, test_size=0.3, random_state=0)"
   ]
  },
  {
   "cell_type": "code",
   "execution_count": null,
   "metadata": {},
   "outputs": [],
   "source": [
    "model = LinearRegression()\n",
    "model.fit(X_train, Y_train)"
   ]
  },
  {
   "cell_type": "code",
   "execution_count": null,
   "metadata": {},
   "outputs": [],
   "source": [
    "r_sq = model.score(x,y)\n",
    "print(r_sq)"
   ]
  },
  {
   "cell_type": "code",
   "execution_count": null,
   "metadata": {},
   "outputs": [],
   "source": [
    "from sklearn import linear_model\n",
    "regr = linear_model.LinearRegression()\n",
    "regr.fit(x, y)"
   ]
  },
  {
   "cell_type": "code",
   "execution_count": null,
   "metadata": {},
   "outputs": [],
   "source": [
    "print(regr.coef_)"
   ]
  },
  {
   "cell_type": "code",
   "execution_count": null,
   "metadata": {},
   "outputs": [],
   "source": [
    "print('Intercept: \\n', regr.intercept_)\n",
    "print('Coefficients: \\n', regr.coef_)"
   ]
  },
  {
   "cell_type": "code",
   "execution_count": null,
   "metadata": {},
   "outputs": [],
   "source": [
    "# with statsmodels\n",
    "x = sm.add_constant(x) # adding a constant\n",
    " \n",
    "model = sm.OLS(y, x).fit()\n",
    "predictions = model.predict(x) \n",
    " \n",
    "print_model = model.summary()\n",
    "print(print_model)"
   ]
  },
  {
   "cell_type": "code",
   "execution_count": null,
   "metadata": {},
   "outputs": [],
   "source": [
    "# how many successful throw-ins?\n",
    "\n",
    "throwin_total = 0\n",
    "successful_total = 0\n",
    "\n",
    "for throwin in throw_in_outcomes:\n",
    "    throwin_total += 1\n",
    "    outcome = throw_in_outcomes[throwin][1]\n",
    "    if outcome == \"Success\":\n",
    "        successful_total += 1\n",
    "\n",
    "success_percentage = successful_total/throwin_total\n",
    "\n",
    "print(\"Overall success rate: \" + str(success_percentage))\n"
   ]
  },
  {
   "cell_type": "code",
   "execution_count": null,
   "metadata": {},
   "outputs": [],
   "source": [
    "# Throw-ins from which part of the field lead to the most success?\n",
    "\n",
    "# split location into 4: penalty area (18 yards) on both sides and down the middle \n",
    "# area 1 (0-18 and 102-120): penalty area, area 2 (18-102) attacking area\n",
    "\n",
    "penalty_total = 0\n",
    "middle_total = 0\n",
    "\n",
    "penalty_successes = 0\n",
    "middle_successes = 0\n",
    "\n",
    "for throwin in throw_in_outcomes:\n",
    "    coords = throw_in_outcomes[throwin][0]\n",
    "    x_coord = float(coords.split(\",\")[0][1:])\n",
    "    outcome = throw_in_outcomes[throwin][1]\n",
    "\n",
    "    if x_coord >= 102 or x_coord <= 18:\n",
    "        middle_total += 1\n",
    "        if outcome == \"Success\":\n",
    "            middle_successes += 1\n",
    "    \n",
    "    else:\n",
    "        penalty_total += 1\n",
    "        if outcome == \"Success\":\n",
    "            penalty_successes += 1\n",
    "\n",
    "penalty_success_rate = penalty_successes/penalty_total\n",
    "\n",
    "middle_success_rate = middle_successes/middle_total\n",
    "\n",
    "print(\"Penalty area success rate: \" + str(penalty_successes) + \"/\" + str(penalty_total) + \" = \" + str(penalty_success_rate))\n",
    "print(\"Attacking area success rate: \"  + str(middle_successes) + \"/\" + str(middle_total) + \" = \" +  str(middle_success_rate))"
   ]
  },
  {
   "cell_type": "code",
   "execution_count": null,
   "metadata": {},
   "outputs": [],
   "source": [
    "from prettytable import PrettyTable\n",
    "\n",
    "myTable = PrettyTable([\"Throw-in Location\", \"Successes\", \"Total\", \"Success Rate\"])\n",
    "\n",
    "myTable.add_row([\"Penalty\", penalty_successes, penalty_total, round(penalty_success_rate, 4)])\n",
    "myTable.add_row([\"Attacking\", middle_successes, middle_total, round(middle_success_rate, 4)])\n",
    "\n",
    "print(myTable)"
   ]
  },
  {
   "cell_type": "code",
   "execution_count": null,
   "metadata": {},
   "outputs": [],
   "source": [
    "# create dictionary deeming each throw in a success or failure and including which team threw in the ball\n",
    "# success defined as retaining possession for at least 7 seconds \n",
    "\n",
    "from datetime import datetime\n",
    "\n",
    "throw_in_outcomes_team = {}\n",
    "\n",
    "current_possession = 0\n",
    "i = 0\n",
    "\n",
    "throwin_count = 0\n",
    "\n",
    "for match in file_list:\n",
    "    throwin_row = 0\n",
    "    looking_for_result = False\n",
    "    elapsed_time = 0\n",
    "    current_possession = 0\n",
    "    i = 0\n",
    "\n",
    "    initial_match_df = df_throwIn_final[df_throwIn_final[\"match_id\"]== int(match)]\n",
    "    match_df = initial_match_df.reset_index()\n",
    "\n",
    "    while i < len(match_df):\n",
    "        if (match_df.loc[i, \"pass_type\"] == \"Throw-in\") and (looking_for_result == False):\n",
    "            throwin_count += 1\n",
    "            throwin_row = i\n",
    "            elapsed_time = 0\n",
    "            start_time = match_df.loc[i, \"timestamp\"]\n",
    "            start_dt_time = datetime.strptime(start_time, '%H:%M:%S.%f')\n",
    "            current_possession = match_df.loc[i, \"possession\"]\n",
    "            looking_for_result = True\n",
    "            # print(throwin_row)\n",
    "        \n",
    "        elif looking_for_result == True:\n",
    "            end_time = match_df.loc[i, \"timestamp\"]\n",
    "            end_dt_time = datetime.strptime(end_time, '%H:%M:%S.%f')\n",
    "            elapsed_time = elapsed_time + (end_dt_time - start_dt_time).total_seconds()\n",
    "            start_dt_time = end_dt_time\n",
    "\n",
    "            if elapsed_time >= 7:\n",
    "                \n",
    "                if match_df.loc[i, \"possession\"] == current_possession:\n",
    "                    throw_in_outcomes_team[throwin_count] = [match_df.loc[throwin_row, \"possession_team\"], \"Success\"]\n",
    "                \n",
    "                else:\n",
    "                    throw_in_outcomes_team[throwin_count] = [match_df.loc[throwin_row, \"possession_team\"], \"Failure\"]\n",
    "                    \n",
    "                    i = throwin_row\n",
    "                \n",
    "                looking_for_result = False\n",
    "        \n",
    "        i = i + 1\n",
    "\n",
    "throw_in_outcomes_team"
   ]
  },
  {
   "cell_type": "code",
   "execution_count": null,
   "metadata": {},
   "outputs": [],
   "source": [
    "team_dict = {}\n",
    "\n",
    "for attempt in throw_in_outcomes_team.values():\n",
    "    team_name = attempt[0]\n",
    "    \n",
    "    if attempt[0] not in team_dict:\n",
    "        if attempt[1] == \"Success\":\n",
    "            team_dict[team_name] = [1, 0]\n",
    "        else:\n",
    "            team_dict[team_name] = [0, 1]\n",
    "    \n",
    "    else:\n",
    "        if attempt[1] == \"Success\":\n",
    "            team_dict[team_name][0] += 1\n",
    "        else:\n",
    "            team_dict[team_name][1] += 1\n",
    "\n",
    "team_dict"
   ]
  },
  {
   "cell_type": "code",
   "execution_count": null,
   "metadata": {},
   "outputs": [],
   "source": [
    "team_dict_updated = {}\n",
    "\n",
    "for team in team_dict.keys():\n",
    "    team_dict_updated[team] = (team_dict[team][0] / (team_dict[team][0] + team_dict[team][1]))\n",
    "\n",
    "team_dict_updated"
   ]
  },
  {
   "cell_type": "code",
   "execution_count": null,
   "metadata": {},
   "outputs": [],
   "source": [
    "from prettytable import PrettyTable\n",
    "\n",
    "team_table = PrettyTable([\"Team\", \"Possession retention success rate\"])\n",
    "\n",
    "for team in team_dict_updated.keys():\n",
    "    team_table.add_row([team, round(team_dict_updated[team], 4)])\n",
    "\n",
    "print(team_table.get_string(sortby=\"Possession retention success rate\", reversesort=True))"
   ]
  }
 ]
}